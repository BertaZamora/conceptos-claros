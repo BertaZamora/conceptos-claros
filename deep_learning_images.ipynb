{
  "nbformat": 4,
  "nbformat_minor": 0,
  "metadata": {
    "colab": {
      "name": "deep_learning_images.ipynb",
      "provenance": [],
      "authorship_tag": "ABX9TyOtkTON/w+QlW05Bxw9V0QL",
      "include_colab_link": true
    },
    "kernelspec": {
      "name": "python3",
      "display_name": "Python 3"
    }
  },
  "cells": [
    {
      "cell_type": "markdown",
      "metadata": {
        "id": "view-in-github",
        "colab_type": "text"
      },
      "source": [
        "<a href=\"https://colab.research.google.com/github/raulbenitez/conceptosclaros_ML/blob/master/deep_learning_images.ipynb\" target=\"_parent\"><img src=\"https://colab.research.google.com/assets/colab-badge.svg\" alt=\"Open In Colab\"/></a>"
      ]
    },
    {
      "cell_type": "code",
      "metadata": {
        "id": "9lhRh-WMgN6L",
        "colab_type": "code",
        "colab": {}
      },
      "source": [
        ""
      ],
      "execution_count": null,
      "outputs": []
    },
    {
      "cell_type": "markdown",
      "metadata": {
        "id": "tJUOhY-nd_ZT",
        "colab_type": "text"
      },
      "source": [
        "# 4. INTRODUCTION TO DEEP LEARNING: \n",
        "\n",
        "https://keras.io/getting-started/sequential-model-guide/\n",
        "\n",
        "deep learning.png![image.png](attachment:image.png)\n",
        "\n",
        "## Convolutional Neural Networks (CNN's)"
      ]
    },
    {
      "cell_type": "markdown",
      "metadata": {
        "id": "w9voWV2Yd_ZU",
        "colab_type": "text"
      },
      "source": [
        "Introduction and book: \n",
        "https://torres.ai/deep-learning-inteligencia-artificial-keras/"
      ]
    },
    {
      "cell_type": "markdown",
      "metadata": {
        "id": "WMqma-wcd_ZV",
        "colab_type": "text"
      },
      "source": [
        "figmnist.png![image.png](attachment:image.png)"
      ]
    },
    {
      "cell_type": "code",
      "metadata": {
        "id": "rL0Zm506d_ZV",
        "colab_type": "code",
        "colab": {},
        "outputId": "8967b048-1876-46d2-a6d6-453cd3984a3d"
      },
      "source": [
        "# Cargar la base de datos MNIST y librerias Keras:\n",
        "import numpy\n",
        "from keras.datasets import mnist\n",
        "from keras.models import Sequential\n",
        "from keras.layers import Dense\n",
        "from keras.layers import Dropout\n",
        "from keras.layers import Flatten\n",
        "from keras.layers.convolutional import Conv2D\n",
        "from keras.layers.convolutional import MaxPooling2D\n",
        "from keras.utils import np_utils\n",
        "from keras import backend as K\n",
        "K.set_image_dim_ordering('th')\n",
        "\n",
        "# Establecer la semilla del generador de numeros aleatorios para garantizar reproducibilidad de los resultados \n",
        "seed = 7\n",
        "numpy.random.seed(seed)\n",
        "\n",
        "# Acceder a las imagenes de entrenamiento y test\n",
        "(X_train, y_train), (X_test, y_test) = mnist.load_data()\n",
        "\n",
        "# Dimensionar las imagenes en vectores \n",
        "X_train = X_train.reshape(X_train.shape[0], 1, 28, 28).astype('float32')\n",
        "X_test = X_test.reshape(X_test.shape[0], 1, 28, 28).astype('float32')\n",
        "\n",
        "# Normalizar las imagenes de escala de grises 0-255 (valores entre 0-1):\n",
        "X_train = X_train / 255\n",
        "X_test = X_test / 255\n",
        "\n",
        "# Codificar las etiquetas de clase en formato de vectores categoricos con diez posiciones: \n",
        "y_train = np_utils.to_categorical(y_train)\n",
        "y_test = np_utils.to_categorical(y_test)\n",
        "num_classes = y_test.shape[1]\n",
        "\n",
        "# Funcion en la que se define la arquitectura del modelo:\n",
        "def baseline_model():\n",
        "# Capa de entrada:\n",
        "\tmodel = Sequential() \n",
        "# Primera capa (Convolucional):\n",
        "\tmodel.add(Conv2D(32, (5, 5), input_shape=(1, 28, 28), activation='relu')) \t\n",
        "# Tercera capa (agrupamiento):\n",
        "\tmodel.add(MaxPooling2D(pool_size=(2, 2))) \n",
        "# Cuarta capa (regularizacion)\n",
        "\tmodel.add(Dropout(0.2))\n",
        "# Quinta capa (redimensionamiento): \n",
        "\tmodel.add(Flatten())\n",
        "# Sexta capa (completamente conectada)\n",
        "\tmodel.add(Dense(128, activation='relu')) \n",
        "# Capa de salida (softmax):\n",
        "\tmodel.add(Dense(num_classes, activation='softmax')) \n",
        "# Compilar el modelo y especificar metodo y metrica de optimizacion:\n",
        "\tmodel.compile(loss='categorical_crossentropy', optimizer='adam', metrics=['accuracy'])\n",
        "\treturn model\n",
        "\n",
        "# Llamada al modelo: \n",
        "model = baseline_model()\n",
        "\n",
        "# Ajustar el modelo utilizando los datos de entrenamiento y validacion con los de test:\n",
        "model.fit(X_train, y_train, validation_data=(X_test, y_test), epochs=3, batch_size=200, verbose=2)\n",
        "\n",
        "# Evaluacion del modelo utilizando los datos de test:\n",
        "scores = model.evaluate(X_test, y_test, verbose=0)\n",
        "print(\"Exactitud del modelo: %.2f%%\" % (100*scores[1]))"
      ],
      "execution_count": null,
      "outputs": [
        {
          "output_type": "stream",
          "text": [
            "Train on 60000 samples, validate on 10000 samples\n",
            "Epoch 1/3\n",
            " - 85s - loss: 0.2234 - acc: 0.9367 - val_loss: 0.0796 - val_acc: 0.9745\n",
            "Epoch 2/3\n",
            " - 84s - loss: 0.0712 - acc: 0.9784 - val_loss: 0.0453 - val_acc: 0.9850\n",
            "Epoch 3/3\n",
            " - 91s - loss: 0.0512 - acc: 0.9840 - val_loss: 0.0447 - val_acc: 0.9855\n",
            "Exactitud del modelo: 98.55%\n"
          ],
          "name": "stdout"
        }
      ]
    },
    {
      "cell_type": "markdown",
      "metadata": {
        "id": "xQapjBGqd_Zh",
        "colab_type": "text"
      },
      "source": [
        "## Transfer Learning: Using modes pre-trained with another dataset:\n",
        "\n",
        "https://keras.io/getting-started/faq/#how-can-i-use-pre-trained-models-in-keras\n"
      ]
    },
    {
      "cell_type": "code",
      "metadata": {
        "id": "kVUXpWXgd_Zh",
        "colab_type": "code",
        "colab": {}
      },
      "source": [
        "from keras.applications.vgg16 import VGG16\n",
        "\n",
        "model = VGG16(weights='imagenet', include_top=True)\n"
      ],
      "execution_count": null,
      "outputs": []
    }
  ]
}